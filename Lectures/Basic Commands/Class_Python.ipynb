{
 "cells": [
  {
   "cell_type": "markdown",
   "metadata": {},
   "source": [
    "# Class"
   ]
  },
  {
   "cell_type": "code",
   "execution_count": null,
   "metadata": {},
   "outputs": [],
   "source": [
    "class NewClass:\n",
    "  n = 2\n",
    "\n",
    "\n",
    "print(NewClass.n)\n",
    "\n",
    "#կամ\n",
    "\n",
    "\n",
    "NewObj= NewClass()\n",
    "\n",
    "print(NewObj.n)"
   ]
  },
  {
   "cell_type": "code",
   "execution_count": null,
   "metadata": {},
   "outputs": [],
   "source": [
    "class Person:\n",
    "  def __init__(self, name, age):\n",
    "    self.name = name\n",
    "    self.age = age\n",
    "\n",
    "NewObj = Person(\"Emil\", 40)\n",
    "\n",
    "print(NewObj.name)\n",
    "print(NewObj.age)"
   ]
  },
  {
   "cell_type": "code",
   "execution_count": null,
   "metadata": {},
   "outputs": [],
   "source": [
    "'''\n",
    "Self պարամետրը հղում է դասի ընթացիկ օրինակին և օգտագործվում\n",
    "է դասին պատկանող փոփոխականներին մուտք գործելու համար:\n",
    "'''\n",
    "class Person:\n",
    "\n",
    "  def __init__(self, name, age):\n",
    "    self.name = name\n",
    "    self.age = age\n",
    "\n",
    "  #def myfunc(self):\n",
    "    #print(\"My name is \" + self.name)\n",
    "  def myfunc(Self2):\n",
    "    print(\"My name is \" + Self2.name)\n",
    "\n",
    "Obj = Person(\"Emil\", 40)\n",
    "Obj.myfunc()"
   ]
  },
  {
   "cell_type": "code",
   "execution_count": null,
   "metadata": {},
   "outputs": [],
   "source": [
    "class Person:\n",
    "  def __init__(self, name, age):\n",
    "    self.name = name\n",
    "    self.age = age\n",
    "\n",
    "  def myfunc(self):\n",
    "    print(\"Hello my name is \" + self.name)\n",
    "\n",
    "Obj1 = Person(\"Emil\", 40)\n",
    "\n",
    "Obj1.age = 41  # modification\n",
    "\n",
    "print(Obj1.age)\n",
    "\n",
    "del Obj1.age   # delete \n",
    "\n",
    "print(Obj1.age)"
   ]
  },
  {
   "attachments": {},
   "cell_type": "markdown",
   "metadata": {},
   "source": [
    "# Python ժառանգություն"
   ]
  },
  {
   "cell_type": "code",
   "execution_count": null,
   "metadata": {},
   "outputs": [],
   "source": [
    "class Person:\n",
    "  def __init__(self, name, lname):\n",
    "    self.name = name\n",
    "    self.lastname = lname\n",
    "\n",
    "  def PrintName(self):\n",
    "    print(self.name, self.lastname)\n",
    "\n",
    "\n",
    "x = Person(\"Emil\", \"Gazazyan\")\n",
    "x.PrintName()"
   ]
  },
  {
   "cell_type": "code",
   "execution_count": null,
   "metadata": {},
   "outputs": [],
   "source": [
    "class Lecturer:\n",
    "  def __init__(self, name, lname):\n",
    "    self.Name = name\n",
    "    self.LastName = lname\n",
    "\n",
    "  def printname(self):\n",
    "    print(self.Name, self.LastName)\n",
    "\n",
    "class Student(Person):\n",
    "  pass # այս հրամանը գրվում է այն դեպքում երբ այլ հատկություն կամ մեթոդ չեք ցանկանում ավելացնել\n",
    "'''\n",
    "# եթե չեք ցանկանում ժառանքի ապա  \n",
    "   def __init__(selfs, name, lname):\n",
    "    selfs.name = name\n",
    "    selfs.lastname = lname\n",
    "'''\n",
    "x = Student(\"Hakob\", \"Hakobyan\")\n",
    "x.printname()"
   ]
  },
  {
   "attachments": {},
   "cell_type": "markdown",
   "metadata": {},
   "source": [
    "# Class super() Function"
   ]
  },
  {
   "cell_type": "code",
   "execution_count": null,
   "metadata": {},
   "outputs": [],
   "source": [
    "class Lecturer:\n",
    "  def __init__(self, name, lname):\n",
    "    self.Name = name\n",
    "    self.LastName = lname\n",
    "\n",
    "  def printname(self):\n",
    "    print(self.Name, self.LastName)\n",
    "\n",
    "class Student(Lecturer):\n",
    "  def __init__(self, name, lname):\n",
    "    super().__init__(name, lname)\n",
    "\n",
    "x = Student(\"Hakob\", \"Hakobyan\")\n",
    "x.printname()"
   ]
  },
  {
   "cell_type": "code",
   "execution_count": null,
   "metadata": {},
   "outputs": [],
   "source": [
    "class Lectures:\n",
    "  def __init__(self, name, lname):\n",
    "    self.name = name\n",
    "    self.lastname = lname\n",
    "\n",
    "  def printname(self):\n",
    "    print(self.name, self.lastname)\n",
    "\n",
    "class Student(Lectures):\n",
    "  def __init__(self, name, lname, Programming ):\n",
    "    super().__init__(name, lname)\n",
    "    self.language = Programming   \n",
    "\n",
    "  def Courses (self):\n",
    "    if self.language ==\" \":\n",
    "      print(self.name, self.lastname, \" you dont know\", self.language)\n",
    "    else:\n",
    "      print(\"Very Good,\", self.name, self.lastname, \" you know\", self.language)\n",
    "\n",
    "x = Student(\"Hakob\", \"Hakobyan\",\" \")\n",
    "x.Courses()"
   ]
  }
 ],
 "metadata": {
  "kernelspec": {
   "display_name": "Python 3",
   "language": "python",
   "name": "python3"
  },
  "language_info": {
   "name": "python",
   "version": "3.11.2"
  },
  "orig_nbformat": 4,
  "vscode": {
   "interpreter": {
    "hash": "bd6301d2387c502713dfb7d7370a577a389514b9c42c03d29ceba4b56cff0d1d"
   }
  }
 },
 "nbformat": 4,
 "nbformat_minor": 2
}
