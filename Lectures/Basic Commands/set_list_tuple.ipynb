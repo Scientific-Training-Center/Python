{
  "cells": [
    {
      "attachments": {},
      "cell_type": "markdown",
      "metadata": {
        "id": "VeSDudkvAyS1"
      },
      "source": [
        "# Python Set "
      ]
    },
    {
      "cell_type": "code",
      "execution_count": null,
      "metadata": {
        "colab": {
          "base_uri": "https://localhost:8080/"
        },
        "id": "e1pp1Q6hAko-",
        "outputId": "edf5c84c-f636-4764-faa1-dcf23e3713a5"
      },
      "outputs": [
        {
          "name": "stdout",
          "output_type": "stream",
          "text": [
            "{'task2', 'task3', 'task1'}\n",
            "{1, 2, 3}\n",
            "<class 'set'>\n"
          ]
        }
      ],
      "source": [
        "Task = {\"task1\", \"task2\", \"task3\"}\n",
        "Res = {1,2,3}\n",
        "#print(Res[1])\n",
        "print(Task)\n",
        "print(Res)\n",
        "print(type(Res))"
      ]
    },
    {
      "cell_type": "markdown",
      "metadata": {
        "id": "au5V0st_BwQC"
      },
      "source": [
        "Այսպիսով, Set դասավորված չեն, ուստի չեք կարող վստահ լինել, թե ինչ հերթականությամբ կհայտնվեն տարրերը:"
      ]
    },
    {
      "cell_type": "code",
      "execution_count": null,
      "metadata": {
        "colab": {
          "base_uri": "https://localhost:8080/"
        },
        "id": "Bd-3QtvNCvtV",
        "outputId": "32ffb71f-af60-4ea9-e099-d8ac9fa9c637"
      },
      "outputs": [
        {
          "name": "stdout",
          "output_type": "stream",
          "text": [
            "{'task2', 'task3', 'task1'}\n",
            "{1, 2, 3, 4, 5}\n"
          ]
        }
      ],
      "source": [
        "Task = {\"task1\", \"task2\", \"task3\",\"task1\", \"task2\", \"task3\"}\n",
        "Res = {1,2,3,1,2,3,5,1,2,3,1,2,3,4}\n",
        "\n",
        "print(Task)\n",
        "print(Res)\n"
      ]
    },
    {
      "cell_type": "markdown",
      "metadata": {
        "id": "9IKR4y55Dj6I"
      },
      "source": [
        "Այլ տարբերակ: "
      ]
    },
    {
      "cell_type": "code",
      "execution_count": null,
      "metadata": {
        "colab": {
          "base_uri": "https://localhost:8080/"
        },
        "id": "OerjxnD9DjAW",
        "outputId": "d667159c-de16-40df-b185-41087e6e44aa"
      },
      "outputs": [
        {
          "name": "stdout",
          "output_type": "stream",
          "text": [
            "{'a', 'z', 'w', 's', 'b', 'e', 'c'}\n"
          ]
        }
      ],
      "source": [
        "res= set(\"absesessaczcwsbas\")\n",
        "print(res)"
      ]
    },
    {
      "cell_type": "markdown",
      "metadata": {
        "id": "iVSAUH0OD2HV"
      },
      "source": [
        "տեսնում ենք որ բազմությունը չկարգավորված հավաճածու է"
      ]
    },
    {
      "cell_type": "markdown",
      "metadata": {
        "id": "gYPgoRkpEoaZ"
      },
      "source": [
        "կարող է պարունակի List"
      ]
    },
    {
      "cell_type": "code",
      "execution_count": null,
      "metadata": {
        "colab": {
          "base_uri": "https://localhost:8080/"
        },
        "id": "C0WYD_a7Eb1E",
        "outputId": "17dd0c78-6a9f-40be-ffee-10e27a5752ea"
      },
      "outputs": [
        {
          "name": "stdout",
          "output_type": "stream",
          "text": [
            "{1, 2, 3, 4} <class 'list'>\n"
          ]
        }
      ],
      "source": [
        "List = [1,2,3,2,1,2,4]\n",
        "Set_List = set(List)\n",
        "print(Set_List,type(List))"
      ]
    },
    {
      "cell_type": "markdown",
      "metadata": {
        "id": "L_gKjxqxFXjM"
      },
      "source": [
        "Դատակ Հավաքածու"
      ]
    },
    {
      "cell_type": "code",
      "execution_count": null,
      "metadata": {
        "colab": {
          "base_uri": "https://localhost:8080/"
        },
        "id": "qjaIttT_EYOU",
        "outputId": "29ba4c82-19e3-4d21-e948-db3b8434f569"
      },
      "outputs": [
        {
          "name": "stdout",
          "output_type": "stream",
          "text": [
            "set() <class 'set'>\n"
          ]
        }
      ],
      "source": [
        "Res= set()\n",
        "print(Res,type(Res))"
      ]
    },
    {
      "attachments": {},
      "cell_type": "markdown",
      "metadata": {
        "id": "MVYbfaw_F85K"
      },
      "source": [
        "but"
      ]
    },
    {
      "cell_type": "code",
      "execution_count": null,
      "metadata": {
        "colab": {
          "base_uri": "https://localhost:8080/"
        },
        "id": "ywHUa4pRGFrN",
        "outputId": "a1a86e86-500e-4759-f5a4-6d8ff475898b"
      },
      "outputs": [
        {
          "name": "stdout",
          "output_type": "stream",
          "text": [
            "{} <class 'dict'>\n"
          ]
        }
      ],
      "source": [
        "res= {}\n",
        "print(res, type(res)) #այս դեպքում  կունենանք dic\n",
        "#dic հետ կծանոթանանք մի փոքր ուշ "
      ]
    },
    {
      "cell_type": "markdown",
      "metadata": {
        "id": "pjmvN2-uG6ij"
      },
      "source": [
        "#Հանձնարարություն՝\n",
        "ենթադրենք ունենք List, որի միջից անհրաժեշտ է հանել կրկնվող թվերը:"
      ]
    },
    {
      "cell_type": "code",
      "execution_count": null,
      "metadata": {
        "id": "OSzVjQmQHS_g"
      },
      "outputs": [],
      "source": [
        "a= [1,2,3,4,5,3,2,3,2,1,2,3,4]\n",
        "a = list(set(a))\n",
        "print(a)\n"
      ]
    },
    {
      "attachments": {},
      "cell_type": "markdown",
      "metadata": {
        "id": "-k8qbUFgH21s"
      },
      "source": [
        "add elements"
      ]
    },
    {
      "cell_type": "code",
      "execution_count": null,
      "metadata": {
        "colab": {
          "base_uri": "https://localhost:8080/"
        },
        "id": "d9OagzmRH8q9",
        "outputId": "5ac4c9d0-fb2a-47b5-81a8-6bee2bd021d7"
      },
      "outputs": [
        {
          "name": "stdout",
          "output_type": "stream",
          "text": [
            "{8, 2, 3, 4}\n",
            "{2, 3, 4, 5, 6, 7, 8, 9}\n"
          ]
        }
      ],
      "source": [
        "s = {2,2,3,4,3,2}\n",
        "\n",
        "s.add(8) # կավելանա\n",
        "'''\n",
        "Հարց: \n",
        "x=\n",
        "s.add(x)  # չավելանա  \n",
        "'''\n",
        "print(s) \n",
        "\n",
        "# եթե ցանակնում ենք մի հանի արժեք ավելացնել ապա\n",
        "\n",
        "s.update([2,3,5,6,7,8,9,8,7,6]) # կավելանա\n",
        "\n",
        "print(s)\n"
      ]
    },
    {
      "attachments": {},
      "cell_type": "markdown",
      "metadata": {
        "id": "sphAEXGaJgzO"
      },
      "source": [
        "remove"
      ]
    },
    {
      "cell_type": "code",
      "execution_count": null,
      "metadata": {
        "colab": {
          "base_uri": "https://localhost:8080/"
        },
        "id": "Jo27vwROJjn7",
        "outputId": "c0ff9aa0-5f4d-4fa8-cba6-40865a537e20"
      },
      "outputs": [
        {
          "name": "stdout",
          "output_type": "stream",
          "text": [
            "{1, 3, 4, 5, 6}\n"
          ]
        }
      ],
      "source": [
        "s = {1,2,3,4,5,6}\n",
        "s.discard(2)\n",
        "print(s)"
      ]
    },
    {
      "attachments": {},
      "cell_type": "markdown",
      "metadata": {
        "id": "r0ABjgnBJ59K"
      },
      "source": [
        "but"
      ]
    },
    {
      "cell_type": "code",
      "execution_count": null,
      "metadata": {
        "colab": {
          "base_uri": "https://localhost:8080/"
        },
        "id": "jjg8pIRWKCUt",
        "outputId": "c55f7034-f4c5-4f16-b172-e36fc77150f9"
      },
      "outputs": [
        {
          "name": "stdout",
          "output_type": "stream",
          "text": [
            "{1, 3, 4, 5, 6}\n",
            "{3, 4, 5, 6}\n"
          ]
        }
      ],
      "source": [
        "s = {1,2,3,4,5,6}\n",
        "s.discard(2)\n",
        "s.discard(2)  # 2rd discard ոչ մի խնդրի չի բերում\n",
        "print(s)\n",
        "\n",
        "s.remove(1)\n",
        "#s.remove(1)   #սակայն remove այս մեթոդը խնդիր է առաջացնում \n",
        "print(s)"
      ]
    },
    {
      "cell_type": "markdown",
      "metadata": {
        "id": "4ZZsjsVcK8xF"
      },
      "source": [
        "Այլ տարբերակ: Քանի որ set չկարգավորված է ապա"
      ]
    },
    {
      "cell_type": "code",
      "execution_count": null,
      "metadata": {
        "colab": {
          "base_uri": "https://localhost:8080/"
        },
        "id": "Y7KODyqhLA6X",
        "outputId": "c8ade386-e1f2-4983-f1a5-b8f958b8159e"
      },
      "outputs": [
        {
          "name": "stdout",
          "output_type": "stream",
          "text": [
            "1\n",
            "{2, 3, 4, 5, 6}\n"
          ]
        }
      ],
      "source": [
        "s= {1,2,3,4,5,6}\n",
        "print(s.pop())\n",
        "\n",
        "\n",
        "print(s)"
      ]
    },
    {
      "cell_type": "markdown",
      "metadata": {
        "id": "Wky4dSZALrwJ"
      },
      "source": [
        "Գործողություններ set հետ"
      ]
    },
    {
      "cell_type": "code",
      "execution_count": null,
      "metadata": {
        "colab": {
          "base_uri": "https://localhost:8080/"
        },
        "id": "E6STcmbsL4em",
        "outputId": "6239bfc8-d450-403d-b147-4f22f2fa805c"
      },
      "outputs": [
        {
          "name": "stdout",
          "output_type": "stream",
          "text": [
            "6\n",
            "False\n"
          ]
        }
      ],
      "source": [
        "s= {1,2,3,4,5,6}\n",
        "\n",
        "print(len(s))\n",
        "print(8 in s)"
      ]
    },
    {
      "cell_type": "markdown",
      "metadata": {
        "id": "_b8Lk-uWMSO_"
      },
      "source": [
        "\n",
        "\n",
        "```\n",
        "# This is formatted as code\n",
        "```\n",
        "\n",
        "գտնել հատումը երկու set (բազմության)"
      ]
    },
    {
      "cell_type": "code",
      "execution_count": null,
      "metadata": {
        "colab": {
          "base_uri": "https://localhost:8080/"
        },
        "id": "pZsMBFrCMcn0",
        "outputId": "e65554e0-6640-46ea-a593-ab3dcf15c6cd"
      },
      "outputs": [
        {
          "name": "stdout",
          "output_type": "stream",
          "text": [
            "{4, 5, 6}\n",
            "{1, 2, 3, 7, 8, 9}\n",
            "False\n",
            "True\n"
          ]
        }
      ],
      "source": [
        "s1= {1,2,3,4,5,6}\n",
        "s2= {9,8,7,6,5,4}\n",
        "s3= {6,5,4,3,2,1} \n",
        "print(s1 &  s2 )\n",
        "print(s1^s2) \n",
        "print(s1<s2)   # s1 մտնում է s2 բազմության մեջ\n",
        "print(s1==s3)   # s1 մտնում է s3 բազմության մեջ"
      ]
    },
    {
      "cell_type": "markdown",
      "metadata": {
        "id": "sdwYx26aPmhv"
      },
      "source": [
        "#Python Dictionaries\n",
        "Բառարանը (դիկտիվ) կամայական առարկաների անկանոն հավաքածու է, որոնց հասանելի են բանալիով: Բառարանն ավելի հայտնի է որպես ասոցիատիվ զանգված: Բառարանը բաղկացած է բանալի-արժեք զույգերից և ի տարբերություն ցուցակի, որտեղ յուրաքանչյուր տարրի հասանելի է իր հերթական համարը (ինդեքսը), բառարանում տարրը հասանելի է բանալիով:"
      ]
    },
    {
      "attachments": {},
      "cell_type": "markdown",
      "metadata": {
        "id": "KWraE5entFEz"
      },
      "source": [
        "# List "
      ]
    },
    {
      "cell_type": "code",
      "execution_count": null,
      "metadata": {},
      "outputs": [],
      "source": [
        "mylists = [\"task1\", \"task2\", \"task3\"]\n",
        "mylists[0]='t2'\n",
        "print(mylists[0])\n",
        "print(mylists)\n",
        "print(len(mylists))"
      ]
    },
    {
      "cell_type": "code",
      "execution_count": null,
      "metadata": {},
      "outputs": [],
      "source": [
        "list_name = [\"Emil\", \"Karen\", \"Hrant\"]\n",
        "\n",
        "list_name.append(\"Hayk\")\n",
        "\n",
        "print(list_name)\n",
        "\n",
        "list_name.insert(0,\"Hayk\")\n",
        "\n",
        "print(list_name)\n",
        "\n",
        "list_name.remove(\"Karen\") # անունի\n",
        "\n",
        "print(list_name)\n",
        "\n",
        "list_name.pop(1) # կամ ինդեքսի\n",
        "\n",
        "print(list_name)\n",
        "\n",
        "del list_name[0]\n",
        "print(list_name)\n",
        "\n",
        "###### տնային\n",
        "list_name.sort()  \n",
        "list_name.sort(reverse = True)\n",
        "list_name.sort(key = str.lower)\n",
        "mylist = list_name.copy()\n"
      ]
    },
    {
      "cell_type": "code",
      "execution_count": null,
      "metadata": {
        "colab": {
          "base_uri": "https://localhost:8080/"
        },
        "id": "UDX7mi15PqJf",
        "outputId": "6463d366-19fa-44c6-9e2a-47ff0ea6cea5"
      },
      "outputs": [
        {
          "name": "stdout",
          "output_type": "stream",
          "text": [
            "VivaCell\n"
          ]
        }
      ],
      "source": [
        "List = [ \"UCom\", \"VivaCell\", \"ArmenTell\"]\n",
        "#Համարակալում  0      1           2         \n",
        "print(List[1])\n"
      ]
    },
    {
      "cell_type": "markdown",
      "metadata": {
        "id": "bk96ng0mvjg0"
      },
      "source": [
        "Որպեսզի մենք իրականացնենք համարակալումը ապա այս դեպքում օգնության է գալիս Python - Dictionary "
      ]
    },
    {
      "cell_type": "markdown",
      "metadata": {
        "id": "GcWuToMhw31o"
      },
      "source": [
        "Ծանոթանանք՝"
      ]
    },
    {
      "cell_type": "code",
      "execution_count": null,
      "metadata": {
        "colab": {
          "base_uri": "https://localhost:8080/"
        },
        "id": "81lAXWUmv1rs",
        "outputId": "977f0c9d-e817-4b49-87e8-76e304e02e9b"
      },
      "outputs": [
        {
          "name": "stdout",
          "output_type": "stream",
          "text": [
            "{'Ucom': '055', 'VivaCell': '098', 'ArmenTell': '091'}\n",
            "dict_values(['055', '098', '091'])\n",
            "{'UCom': '055', 'VivaCell': '098', 'ArmenTell': '091'}\n"
          ]
        }
      ],
      "source": [
        "Arm_Operators = {\n",
        "    # key : value,\n",
        "    'Ucom' : '055',\n",
        "    'VivaCell' : '098',\n",
        "    'ArmenTell' : '091'\n",
        "}\n",
        "\n",
        "print(Arm_Operators)\n",
        "\n",
        "# կամ \n",
        "\n",
        "List = [ [\"UCom\",'055'], [\"VivaCell\",'098'], [\"ArmenTell\",'091']]\n",
        "\n",
        "d=dict(List)\n",
        "\n",
        "print(d)"
      ]
    },
    {
      "cell_type": "markdown",
      "metadata": {
        "id": "ef6xBrkRx-a2"
      },
      "source": [
        "Բոլոր key տալ նույն այժեքը"
      ]
    },
    {
      "cell_type": "code",
      "execution_count": null,
      "metadata": {
        "colab": {
          "base_uri": "https://localhost:8080/"
        },
        "id": "YqVc6Oo_yFUv",
        "outputId": "8be20740-a0bb-4bc1-e446-1b9bb6e052a0"
      },
      "outputs": [
        {
          "name": "stdout",
          "output_type": "stream",
          "text": [
            "{'Ucom': '098', 'VivaCell': '098', 'ArmenTell': '098'}\n",
            "{} <class 'dict'>\n"
          ]
        }
      ],
      "source": [
        "d=dict.fromkeys(['Ucom','VivaCell','ArmenTell'],'098')\n",
        "print(d)\n",
        "# դատարկ dict.\n",
        "d0 = {}\n",
        "print(d0,type(d0))"
      ]
    },
    {
      "cell_type": "markdown",
      "metadata": {
        "id": "sd9YuRVdzP2n"
      },
      "source": [
        "Ինչպես դիմել "
      ]
    },
    {
      "cell_type": "code",
      "execution_count": null,
      "metadata": {
        "colab": {
          "base_uri": "https://localhost:8080/"
        },
        "id": "AV1X09jtzUFc",
        "outputId": "c383305b-62d2-44ef-a25d-14820dd8ca5c"
      },
      "outputs": [
        {
          "name": "stdout",
          "output_type": "stream",
          "text": [
            "055\n"
          ]
        }
      ],
      "source": [
        "ArmOp = {\n",
        "    # key : value,\n",
        "    'Ucom' : '055',\n",
        "    'VivaCell' : '098',\n",
        "    'ArmenTell' : '091'\n",
        "}\n",
        "\n",
        "\n",
        "print(ArmOp['Ucom'])\n",
        "#print(ArmOp[1])   #KeyError"
      ]
    },
    {
      "cell_type": "markdown",
      "metadata": {
        "id": "5wTb_ew7zuOh"
      },
      "source": [
        "Ինչպես ավելացնել "
      ]
    },
    {
      "cell_type": "code",
      "execution_count": null,
      "metadata": {
        "colab": {
          "base_uri": "https://localhost:8080/"
        },
        "id": "xmtL5wEJzznC",
        "outputId": "cff18459-f206-48b3-e634-d6c344d46969"
      },
      "outputs": [
        {
          "name": "stdout",
          "output_type": "stream",
          "text": [
            "{'VivaCell': '098', 'ArmenTell': '091'}\n",
            "{'VivaCell': '098', 'ArmenTell': '091', 'Ucom': '055'}\n",
            "{'VivaCell': '098', 'ArmenTell': '091', 'Ucom': '055'}\n"
          ]
        }
      ],
      "source": [
        "ArmOp = {\n",
        "    # key : value,\n",
        "    'VivaCell' : '098',\n",
        "    'ArmenTell' : '091'\n",
        "}\n",
        "print(ArmOp)\n",
        "ArmOp['Ucom']='055'\n",
        "print(ArmOp)\n",
        "# կամ\n",
        "\n",
        "#ArmOp.setdefault(\"NewOperator\")\n",
        "#print(ArmOp)\n",
        "#ArmOp.setdefault(\"NewOperator\",'088')\n",
        "#print(ArmOp)\n",
        "\n",
        "# իսկ ինչ կլինի եթե նման ձևով արժեք տանք արդեն եղածին ապա \n",
        "\n",
        "ArmOp.setdefault(\"Ucom\",'000') \n",
        "print(ArmOp)  # փոփոխման ենթակա չէ \n"
      ]
    },
    {
      "cell_type": "markdown",
      "metadata": {
        "id": "EfmotEDf008W"
      },
      "source": [
        "կարող ենք նաև ջնջել"
      ]
    },
    {
      "cell_type": "code",
      "execution_count": null,
      "metadata": {
        "colab": {
          "base_uri": "https://localhost:8080/"
        },
        "id": "jp4R3VQT0-I5",
        "outputId": "e03fb44f-6bb9-4d3e-b665-e7137fa75609"
      },
      "outputs": [
        {
          "name": "stdout",
          "output_type": "stream",
          "text": [
            "{'Ucom': '055', 'VivaCell': '098', 'ArmenTell': '091', 'NewOperator': '0000'}\n",
            "{'Ucom': '055', 'VivaCell': '098', 'ArmenTell': '091'}\n",
            "\n",
            "\n",
            "3\n",
            "True\n",
            "None\n"
          ]
        }
      ],
      "source": [
        "ArmOp = {\n",
        "    # key : value,\n",
        "    'Ucom' : '055',\n",
        "    'VivaCell' : '098',\n",
        "    'ArmenTell' : '091'\n",
        "}\n",
        "ArmOp[\"NewOperator\"]= \"0000\"\n",
        "print(ArmOp)\n",
        "del ArmOp[\"NewOperator\"]\n",
        "#ArmOp.pop(\"NewOperator\")\n",
        "print(ArmOp) \n",
        "print('\\n')\n",
        "print(len(ArmOp))\n",
        "print(\"Ucom\" in ArmOp)\n",
        "res =ArmOp.clear()\n",
        "print(res) # ջնջում է \n"
      ]
    },
    {
      "cell_type": "markdown",
      "metadata": {
        "id": "uMSO3IPo3MUF"
      },
      "source": [
        "Բալանիով դիմել արժեքին"
      ]
    },
    {
      "cell_type": "code",
      "execution_count": null,
      "metadata": {
        "colab": {
          "base_uri": "https://localhost:8080/"
        },
        "id": "x-VWyekQ3bR-",
        "outputId": "b0985d1c-a5f0-4348-b8b7-40c9d7210652"
      },
      "outputs": [
        {
          "name": "stdout",
          "output_type": "stream",
          "text": [
            "{'Ucom': '055', 'VivaCell': '098', 'ArmenTell': '091'}\n",
            "055\n",
            "Նման օպերատոր չի գտնվել\n",
            "055\n"
          ]
        }
      ],
      "source": [
        "ArmOp = {\n",
        "    # key : value,\n",
        "    'Ucom' : '055',\n",
        "    'VivaCell' : '098',\n",
        "    'ArmenTell' : '091'\n",
        "}\n",
        "print(ArmOp)\n",
        "print(ArmOp.get(\"Ucom\"))\n",
        "# իսկ չգտնելու դեպքում կարող ենք այնպես անել որ տեղեկացնի\n",
        "print(ArmOp.get(\"NewOperator\",\"Նման օպերատոր չի գտնվել\"))\n",
        "# իսկ գտնելու դեպքում \n",
        "print(ArmOp.get(\"Ucom\",\"Նման օպերատոր չի գտնվել\"))"
      ]
    },
    {
      "cell_type": "markdown",
      "metadata": {
        "id": "Tih7oq3ERVDk"
      },
      "source": [
        "#Python If/Else\n",
        "\n",
        "Not Equals: a != b \n",
        "\n",
        "Less than: a < b\n",
        "\n",
        "Equals: a == b\n",
        "\n",
        "Less than or equal to: a <= b\n",
        "\n",
        "Greater than: a > b\n",
        "\n",
        "Greater than or equal to: a >= b"
      ]
    },
    {
      "cell_type": "code",
      "execution_count": null,
      "metadata": {
        "colab": {
          "base_uri": "https://localhost:8080/"
        },
        "id": "snycahmpRZh3",
        "outputId": "450db56b-8d59-47f1-e4a3-9f2d3881c58f"
      },
      "outputs": [
        {
          "name": "stdout",
          "output_type": "stream",
          "text": [
            "y > x\n",
            "x < y\n"
          ]
        }
      ],
      "source": [
        "x = 100\n",
        "y = 200\n",
        "if y > x:\n",
        "  print(\"y > x\")\n",
        "\n",
        "x = 100\n",
        "y = 200\n",
        "if x > y:\n",
        "  print(\"x > y\")\n",
        "\n",
        "x = 100\n",
        "y = 200\n",
        "if x > y:\n",
        "  print(\"x > y\")\n",
        "elif  x<y:\n",
        "  print(\"x < y\")\n",
        "\n"
      ]
    },
    {
      "cell_type": "markdown",
      "metadata": {
        "id": "2Ew_zEv76usi"
      },
      "source": [
        "Ինքնուրույն \n",
        "\n",
        "x != y\n",
        "\n",
        "x>=y\n",
        "\n",
        "x==y\n"
      ]
    },
    {
      "cell_type": "markdown",
      "metadata": {
        "id": "4gThkLhe7o4p"
      },
      "source": [
        "#Python While"
      ]
    },
    {
      "cell_type": "code",
      "execution_count": null,
      "metadata": {
        "colab": {
          "base_uri": "https://localhost:8080/"
        },
        "id": "9naPKg-F7uKo",
        "outputId": "6165db3e-ed8c-46f1-8dfa-28381fdf368b"
      },
      "outputs": [
        {
          "name": "stdout",
          "output_type": "stream",
          "text": [
            "1\n",
            "2\n"
          ]
        }
      ],
      "source": [
        "i = 1\n",
        "while i < 3:\n",
        "  print(i)\n",
        "  i += 1"
      ]
    },
    {
      "cell_type": "code",
      "execution_count": null,
      "metadata": {
        "colab": {
          "base_uri": "https://localhost:8080/"
        },
        "id": "-k0X_Voa74mJ",
        "outputId": "8783b751-1551-45e3-eeff-54a1576fe03d"
      },
      "outputs": [
        {
          "name": "stdout",
          "output_type": "stream",
          "text": [
            "1\n",
            "2\n",
            "3\n"
          ]
        }
      ],
      "source": [
        "i = 1\n",
        "while i < 20:\n",
        "  print(i)\n",
        "  if i == 3:\n",
        "    break\n",
        "  i += 1"
      ]
    },
    {
      "attachments": {},
      "cell_type": "markdown",
      "metadata": {},
      "source": [
        "# Tuple "
      ]
    },
    {
      "cell_type": "code",
      "execution_count": null,
      "metadata": {},
      "outputs": [],
      "source": [
        "mytuples = (\"task1\", \"task2\", \"task3\")\n",
        "\n",
        "print(mylists[0])\n",
        "print(mylists)\n",
        "print(len(mylists))\n",
        "print(type(mytuples))"
      ]
    },
    {
      "cell_type": "code",
      "execution_count": null,
      "metadata": {},
      "outputs": [],
      "source": [
        "mytuples = (\"task1\",)\n",
        "print(type(mytuples))"
      ]
    },
    {
      "cell_type": "code",
      "execution_count": null,
      "metadata": {},
      "outputs": [],
      "source": [
        "mytuples = (\"task1\")\n",
        "print(type(mytuples))"
      ]
    },
    {
      "cell_type": "code",
      "execution_count": null,
      "metadata": {},
      "outputs": [],
      "source": [
        "mytuples = (\"task1\",\"task2\")\n",
        "print(type(mytuples))"
      ]
    },
    {
      "attachments": {},
      "cell_type": "markdown",
      "metadata": {},
      "source": [
        "Ի՞նչ կարող է պարունակի tuple"
      ]
    },
    {
      "cell_type": "code",
      "execution_count": null,
      "metadata": {},
      "outputs": [],
      "source": [
        "tuple_str = (\"task1\", \"task2\", \"task3\")\n",
        "tuple_num = (1, 5, 7, 9, 3)\n",
        "tuple_mult =(\"Task1\",2,\"task4\",3)\n",
        "\n",
        "print(\"\\n\")\n",
        "print(tuple_str)\n",
        "print(tuple_num)\n",
        "print(tuple_mult)\n",
        "print(\"\\n\")\n",
        "print(type(tuple_str))\n",
        "print(type(tuple_num))\n",
        "print(type(tuple_mult))"
      ]
    },
    {
      "attachments": {},
      "cell_type": "markdown",
      "metadata": {},
      "source": [
        "Concate"
      ]
    },
    {
      "cell_type": "code",
      "execution_count": null,
      "metadata": {},
      "outputs": [],
      "source": [
        "tuple1 = (\"task1\", \"task2\" , \"task3\")\n",
        "tuple2 = (1, 2, 3)\n",
        "\n",
        "tupleP = tuple1 + tuple2\n",
        "print(tupleP)\n",
        "\n",
        "print(\"\\n\")\n",
        "\n",
        "tupleM=tuple2*2\n",
        "\n",
        "print(tupleM)"
      ]
    },
    {
      "attachments": {},
      "cell_type": "markdown",
      "metadata": {},
      "source": [
        "Collect"
      ]
    },
    {
      "cell_type": "code",
      "execution_count": null,
      "metadata": {},
      "outputs": [],
      "source": [
        "tupleCount = (2, 5, 2, 5, 4, 5, 4, 9, 7, 7,5,8)\n",
        "\n",
        "C = tupleCount.count(5)\n",
        "\n",
        "print(C)"
      ]
    },
    {
      "attachments": {},
      "cell_type": "markdown",
      "metadata": {
        "id": "UjkSiFpHcxD-"
      },
      "source": [
        "# FAQ\n",
        "\n",
        "Dic-ի value ստանալ key"
      ]
    },
    {
      "cell_type": "code",
      "execution_count": null,
      "metadata": {
        "colab": {
          "base_uri": "https://localhost:8080/"
        },
        "id": "alzj7qdXdXEZ",
        "outputId": "5306e5ef-3687-4efa-f92a-b76d0bc3da36"
      },
      "outputs": [
        {
          "name": "stdout",
          "output_type": "stream",
          "text": [
            "Get a key by value: VivaCell\n"
          ]
        }
      ],
      "source": [
        "ArmOp = {\n",
        "    # key : value,\n",
        "    'Ucom' : '055',\n",
        "    'VivaCell' : '098',\n",
        "    'ArmenTell' : '091'\n",
        "}\n",
        "Key_List  = list(ArmOp.keys())\n",
        "Value_List  = list(ArmOp.values())\n",
        "\n",
        "Searching  = Value_List.index(\"098\")\n",
        "\n",
        "print(\"Get a key by value:\", Key_List[Searching])"
      ]
    }
  ],
  "metadata": {
    "colab": {
      "provenance": []
    },
    "kernelspec": {
      "display_name": "Python 3",
      "language": "python",
      "name": "python3"
    },
    "language_info": {
      "name": "python",
      "version": "3.11.2"
    },
    "vscode": {
      "interpreter": {
        "hash": "bd6301d2387c502713dfb7d7370a577a389514b9c42c03d29ceba4b56cff0d1d"
      }
    }
  },
  "nbformat": 4,
  "nbformat_minor": 0
}
