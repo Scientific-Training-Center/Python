{
 "cells": [
  {
   "attachments": {},
   "cell_type": "markdown",
   "metadata": {},
   "source": [
    "## Creating a Function"
   ]
  },
  {
   "attachments": {},
   "cell_type": "markdown",
   "metadata": {},
   "source": [
    "# In Python a function is defined using the def function_name (arguments):\n",
    "def my_function():\n",
    "  print(\"Hello from a function\")"
   ]
  },
  {
   "cell_type": "code",
   "execution_count": null,
   "metadata": {},
   "outputs": [],
   "source": [
    "# for example "
   ]
  },
  {
   "cell_type": "code",
   "execution_count": null,
   "metadata": {},
   "outputs": [],
   "source": [
    "def printing():\n",
    "  print(\"Hello frind\")\n",
    "\n",
    "printing()"
   ]
  },
  {
   "cell_type": "code",
   "execution_count": null,
   "metadata": {},
   "outputs": [],
   "source": [
    "def Welcome_Message(Name):\n",
    "  print(\"Hello \" + Name)\n",
    "\n",
    "Welcome_Message(\"Emil\")\n",
    "Welcome_Message(\"Karen\")\n",
    "Welcome_Message(\"Gor\")\n",
    "#Welcome_Message()  # error\n",
    "Welcome_Message(\"  \")\n",
    "#Welcome_Message(2) #error /can only concatenate str (not \"int\") to str/\n",
    "Welcome_Message(str(2))"
   ]
  },
  {
   "cell_type": "code",
   "execution_count": 2,
   "metadata": {},
   "outputs": [
    {
     "name": "stdout",
     "output_type": "stream",
     "text": [
      "Hello Emil\n",
      "Hello Karen\n",
      "Hello Gor\n",
      "Hello Man\n",
      "Hello   \n",
      "Hello 2\n"
     ]
    }
   ],
   "source": [
    "def Welcome_Message(Name=\"Man\"):\n",
    "  print(\"Hello \" + Name)\n",
    "\n",
    "Welcome_Message(\"Emil\")\n",
    "Welcome_Message(\"Karen\")\n",
    "Welcome_Message(\"Gor\")\n",
    "Welcome_Message()  # not error\n",
    "Welcome_Message(\"  \")\n",
    "#Welcome_Message(2) #error /can only concatenate str (not \"int\") to str/\n",
    "Welcome_Message(str(2))"
   ]
  },
  {
   "cell_type": "code",
   "execution_count": 3,
   "metadata": {},
   "outputs": [
    {
     "name": "stdout",
     "output_type": "stream",
     "text": [
      "9\n",
      "25\n",
      "81\n"
     ]
    }
   ],
   "source": [
    "def MySqrt(x):\n",
    "  return x**2\n",
    "\n",
    "print(MySqrt(3))\n",
    "print(MySqrt(5))\n",
    "print(MySqrt(9))"
   ]
  },
  {
   "cell_type": "code",
   "execution_count": null,
   "metadata": {},
   "outputs": [],
   "source": [
    "# Quaesion \n",
    "def my_function(x):\n",
    "  return x**2\n",
    "  return x**3\n",
    "\n",
    "print(my_function(3))\n",
    "print(my_function(5))\n",
    "print(my_function(9))"
   ]
  },
  {
   "cell_type": "code",
   "execution_count": null,
   "metadata": {},
   "outputs": [],
   "source": [
    "def even(n):\n",
    "  if n%2==0:\n",
    "    print(n,\": Զույգ թիվ է\")\n",
    "    return n\n",
    "  else:\n",
    "    print(n,\": Կենտ\")\n",
    "    return n\n",
    "\n",
    "for nn in range(0,10):\n",
    "  print(even(nn))"
   ]
  },
  {
   "cell_type": "code",
   "execution_count": null,
   "metadata": {},
   "outputs": [],
   "source": [
    "def myfunc():\n",
    "  def func2():\n",
    "    x = 8\n",
    "    print(x)\n",
    "  \n",
    "  func2()\n",
    "\n",
    "myfunc()"
   ]
  },
  {
   "cell_type": "code",
   "execution_count": null,
   "metadata": {},
   "outputs": [],
   "source": [
    "x = 8 #global\n",
    "\n",
    "def myfunc():\n",
    "  print(x)\n",
    "\n",
    "myfunc()\n",
    "\n",
    "print(x)"
   ]
  },
  {
   "cell_type": "code",
   "execution_count": null,
   "metadata": {},
   "outputs": [],
   "source": [
    "x = 8\n",
    "\n",
    "def myfunc():\n",
    "  x = 10\n",
    "  print(x)\n",
    "\n",
    "myfunc()\n",
    "\n",
    "print(x)"
   ]
  },
  {
   "cell_type": "code",
   "execution_count": null,
   "metadata": {},
   "outputs": [],
   "source": [
    "x = 8\n",
    "\n",
    "def myfunc():\n",
    "  '''\n",
    "  my comments\n",
    "  '''\n",
    "  global x \n",
    "  x=2\n",
    "\n",
    "myfunc()\n",
    "\n",
    "print(x)"
   ]
  },
  {
   "cell_type": "code",
   "execution_count": null,
   "metadata": {},
   "outputs": [],
   "source": [
    "def myfunc():\n",
    "  global x\n",
    "  x = 1\n",
    "\n",
    "myfunc()\n",
    "\n",
    "print(x)"
   ]
  },
  {
   "attachments": {},
   "cell_type": "markdown",
   "metadata": {},
   "source": [
    "## Factorial "
   ]
  },
  {
   "cell_type": "code",
   "execution_count": null,
   "metadata": {},
   "outputs": [],
   "source": [
    "def Factorial(n):\n",
    "  Buffer =1\n",
    "  for i in range(2,n+1):\n",
    "    Buffer = Buffer*i\n",
    "  return Buffer\n",
    " \n",
    "  \n",
    "Factorial(5)"
   ]
  },
  {
   "attachments": {},
   "cell_type": "markdown",
   "metadata": {},
   "source": [
    "## Lambda function"
   ]
  },
  {
   "cell_type": "code",
   "execution_count": null,
   "metadata": {},
   "outputs": [],
   "source": [
    "res = lambda a : a + 10\n",
    "print(res(5))"
   ]
  },
  {
   "cell_type": "code",
   "execution_count": null,
   "metadata": {},
   "outputs": [],
   "source": [
    "res = lambda x, y : x * y\n",
    "print(res(5, 6))"
   ]
  },
  {
   "attachments": {},
   "cell_type": "markdown",
   "metadata": {},
   "source": [
    "# Homework"
   ]
  },
  {
   "cell_type": "code",
   "execution_count": null,
   "metadata": {},
   "outputs": [],
   "source": [
    "Calculate x^2+y^2+z^2"
   ]
  }
 ],
 "metadata": {
  "kernelspec": {
   "display_name": "Python 3",
   "language": "python",
   "name": "python3"
  },
  "language_info": {
   "codemirror_mode": {
    "name": "ipython",
    "version": 3
   },
   "file_extension": ".py",
   "mimetype": "text/x-python",
   "name": "python",
   "nbconvert_exporter": "python",
   "pygments_lexer": "ipython3",
   "version": "3.11.2"
  },
  "orig_nbformat": 4,
  "vscode": {
   "interpreter": {
    "hash": "bd6301d2387c502713dfb7d7370a577a389514b9c42c03d29ceba4b56cff0d1d"
   }
  }
 },
 "nbformat": 4,
 "nbformat_minor": 2
}
