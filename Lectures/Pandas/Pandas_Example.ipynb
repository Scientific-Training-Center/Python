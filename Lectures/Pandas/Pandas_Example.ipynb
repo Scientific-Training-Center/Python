{
 "cells": [
  {
   "attachments": {},
   "cell_type": "markdown",
   "metadata": {},
   "source": [
    "## Загрузка данных из CSV файла и вывод первых 5 строк"
   ]
  },
  {
   "cell_type": "code",
   "execution_count": null,
   "metadata": {},
   "outputs": [],
   "source": [
    "# Импортируем библиотеку pandas\n",
    "import pandas as pd\n",
    "\n",
    "# Загружаем данные из CSV файла в DataFrame (табличную структуру данных)\n",
    "df = pd.read_csv('data.csv')\n",
    "\n",
    "# Выводим первые 5 строк DataFrame\n",
    "print(df.head())\n"
   ]
  },
  {
   "attachments": {},
   "cell_type": "markdown",
   "metadata": {},
   "source": [
    "## Фильтрация данных по условию"
   ]
  },
  {
   "cell_type": "code",
   "execution_count": null,
   "metadata": {},
   "outputs": [],
   "source": [
    "# Импортируем библиотеку pandas\n",
    "import pandas as pd\n",
    "\n",
    "# Загружаем данные из CSV файла в DataFrame\n",
    "df = pd.read_csv('data.csv')\n",
    "\n",
    "# Фильтруем данные, оставляя только те строки, где значение в столбце 'age' больше 30\n",
    "filtered_df = df[df['age'] > 30]\n",
    "\n",
    "# Выводим отфильтрованные данные\n",
    "print(filtered_df)\n"
   ]
  },
  {
   "attachments": {},
   "cell_type": "markdown",
   "metadata": {},
   "source": [
    "## Группировка данных и агрегация"
   ]
  },
  {
   "cell_type": "code",
   "execution_count": null,
   "metadata": {},
   "outputs": [],
   "source": [
    "# Импортируем библиотеку pandas\n",
    "import pandas as pd\n",
    "\n",
    "# Загружаем данные из CSV файла в DataFrame\n",
    "df = pd.read_csv('data.csv')\n",
    "\n",
    "# Группируем данные по столбцу 'country' и вычисляем среднее значение столбца 'salary'\n",
    "grouped_df = df.groupby('country')['salary'].mean()\n",
    "\n",
    "# Выводим результат группировки и агрегации\n",
    "print(grouped_df)"
   ]
  },
  {
   "attachments": {},
   "cell_type": "markdown",
   "metadata": {},
   "source": [
    "## Создание нового столбца на основе существующих данных"
   ]
  },
  {
   "cell_type": "code",
   "execution_count": null,
   "metadata": {},
   "outputs": [],
   "source": [
    "# Импортируем библиотеку pandas\n",
    "import pandas as pd\n",
    "\n",
    "# Загружаем данные из CSV файла в DataFrame\n",
    "df = pd.read_csv('data.csv')\n",
    "\n",
    "# Создаем новый столбец 'full_name', объединяя значения столбцов 'first_name' и 'last_name'\n",
    "df['full_name'] = df['first_name'] + ' ' + df['last_name']\n",
    "\n",
    "# Выводим результат\n",
    "print(df)\n"
   ]
  },
  {
   "attachments": {},
   "cell_type": "markdown",
   "metadata": {},
   "source": [
    "## Сортировка данных по столбцу"
   ]
  },
  {
   "cell_type": "code",
   "execution_count": null,
   "metadata": {},
   "outputs": [],
   "source": [
    "# Импортируем библиотеку pandas\n",
    "import pandas as pd\n",
    "\n",
    "# Загружаем данные из CSV файла в DataFrame\n",
    "df = pd.read_csv('data.csv')\n",
    "\n",
    "# Сортируем данные по столбцу 'age' в порядке возрастания\n",
    "sorted_df = df.sort_values('age')\n",
    "\n",
    "# Выводим результат\n",
    "print(sorted_df)\n"
   ]
  },
  {
   "attachments": {},
   "cell_type": "markdown",
   "metadata": {},
   "source": [
    "##  Применение функции к столбцу"
   ]
  },
  {
   "cell_type": "code",
   "execution_count": null,
   "metadata": {},
   "outputs": [],
   "source": [
    "# Импортируем библиотеку pandas\n",
    "import pandas as pd\n",
    "\n",
    "# Загружаем данные из CSV файла в DataFrame\n",
    "df = pd.read_csv('data.csv')\n",
    "\n",
    "# Определяем функцию, которая преобразует возраст в категорию\n",
    "def age_to_category(age):\n",
    "    if age < 18:\n",
    "        return 'child'\n",
    "    elif age < 65:\n",
    "        return 'adult'\n",
    "    else:\n",
    "        return 'senior'\n",
    "\n",
    "# Применяем функцию age_to_category к столбцу 'age' и создаем новый столбец 'age_category'\n",
    "df['age_category'] = df['age'].apply(age_to_category)\n",
    "\n",
    "# Выводим результат\n",
    "print(df)\n"
   ]
  },
  {
   "attachments": {},
   "cell_type": "markdown",
   "metadata": {},
   "source": [
    "## Сохранение DataFrame в CSV файл"
   ]
  },
  {
   "cell_type": "code",
   "execution_count": null,
   "metadata": {},
   "outputs": [],
   "source": [
    "# Импортируем библиотеку pandas\n",
    "import pandas as pd\n",
    "\n",
    "# Загружаем данные из CSV файла в DataFrame\n",
    "df = pd.read_csv('data.csv')\n",
    "\n",
    "# Удаляем столбец 'age' из DataFrame\n",
    "df.drop('age', axis=1, inplace=True)\n",
    "\n",
    "# Сохраняем измененный DataFrame в новый CSV файл\n",
    "df.to_csv('modified_data.csv', index=False)\n",
    "\n",
    "# Успешно сохранено в файл modified_data.csv\n"
   ]
  },
  {
   "attachments": {},
   "cell_type": "markdown",
   "metadata": {},
   "source": [
    "## Выбор данных с использованием индекса и меток столбцов"
   ]
  },
  {
   "cell_type": "code",
   "execution_count": null,
   "metadata": {},
   "outputs": [],
   "source": [
    "# Импортируем библиотеку pandas\n",
    "import pandas as pd\n",
    "\n",
    "# Загружаем данные из CSV файла в DataFrame\n",
    "df = pd.read_csv('data.csv')\n",
    "\n",
    "# Выбираем данные из строки с индексом 3 и столбца 'salary'\n",
    "value = df.loc[3, 'salary']\n",
    "\n",
    "# Выводим результат\n",
    "print(value)\n"
   ]
  },
  {
   "attachments": {},
   "cell_type": "markdown",
   "metadata": {},
   "source": [
    "## Изменение индекса на уникальное значение столбца"
   ]
  },
  {
   "cell_type": "code",
   "execution_count": null,
   "metadata": {},
   "outputs": [],
   "source": [
    "# Импортируем библиотеку pandas\n",
    "import pandas as pd\n",
    "\n",
    "# Загружаем данные из CSV файла в DataFrame\n",
    "df = pd.read_csv('data.csv')\n",
    "\n",
    "# Устанавливаем столбец 'id' в качестве индекса\n",
    "df.set_index('id', inplace=True)\n",
    "\n",
    "# Выводим результат\n",
    "print(df)\n"
   ]
  },
  {
   "attachments": {},
   "cell_type": "markdown",
   "metadata": {},
   "source": [
    "## Транспонирование DataFrame"
   ]
  },
  {
   "cell_type": "code",
   "execution_count": null,
   "metadata": {},
   "outputs": [],
   "source": [
    "# Импортируем библиотеку pandas\n",
    "import pandas as pd\n",
    "\n",
    "# Загружаем данные из CSV файла в DataFrame\n",
    "df = pd.read_csv('data.csv')\n",
    "\n",
    "# Транспонируем DataFrame (меняем местами строки и столбцы)\n",
    "transposed_df = df.T\n",
    "\n",
    "# Выводим результат\n",
    "print(transposed_df)\n"
   ]
  },
  {
   "attachments": {},
   "cell_type": "markdown",
   "metadata": {},
   "source": [
    "## Вычисление скользящего среднего"
   ]
  },
  {
   "cell_type": "code",
   "execution_count": 22,
   "metadata": {},
   "outputs": [
    {
     "name": "stdout",
     "output_type": "stream",
     "text": [
      "            value  rolling_mean\n",
      "date                           \n",
      "2022-01-01    100           NaN\n",
      "2022-01-02    120           NaN\n",
      "2022-01-03    110    110.000000\n",
      "2022-01-04    115    115.000000\n",
      "2022-01-05    105    110.000000\n",
      "2022-01-06    140    120.000000\n",
      "2022-01-07    135    126.666667\n",
      "2022-01-08    130    135.000000\n",
      "2022-01-09    145    136.666667\n",
      "2022-01-10    150    141.666667\n"
     ]
    }
   ],
   "source": [
    "# Импортируем библиотеку pandas\n",
    "import pandas as pd\n",
    "\n",
    "# Загружаем данные из CSV файла в DataFrame\n",
    "df = pd.read_csv('time_series_data.csv')\n",
    "\n",
    "# Преобразуем столбец 'date' в формат datetime и устанавливаем его в качестве индекса\n",
    "df['date'] = pd.to_datetime(df['date'])\n",
    "df.set_index('date', inplace=True)\n",
    "\n",
    "# Вычисляем скользящее среднее с окном в 3 периода для столбца 'value'\n",
    "df['rolling_mean'] = df['value'].rolling(window=3).mean()\n",
    "\n",
    "# Выводим результат\n",
    "print(df)\n",
    "\n"
   ]
  }
 ],
 "metadata": {
  "kernelspec": {
   "display_name": "Python 3",
   "language": "python",
   "name": "python3"
  },
  "language_info": {
   "codemirror_mode": {
    "name": "ipython",
    "version": 3
   },
   "file_extension": ".py",
   "mimetype": "text/x-python",
   "name": "python",
   "nbconvert_exporter": "python",
   "pygments_lexer": "ipython3",
   "version": "3.11.2"
  },
  "orig_nbformat": 4
 },
 "nbformat": 4,
 "nbformat_minor": 2
}
