{
 "cells": [
  {
   "attachments": {},
   "cell_type": "markdown",
   "metadata": {},
   "source": [
    "# Loops: for"
   ]
  },
  {
   "attachments": {},
   "cell_type": "markdown",
   "metadata": {},
   "source": [
    "The for loop in Python is used to iterate over a sequence (such as a list, tuple, or string) or other iterable objects. The general syntax of a for loop in Python is:"
   ]
  },
  {
   "cell_type": "code",
   "execution_count": null,
   "metadata": {},
   "outputs": [],
   "source": [
    "for variable in sequence:\n",
    "    # do something with variable"
   ]
  },
  {
   "attachments": {},
   "cell_type": "markdown",
   "metadata": {},
   "source": [
    "In this syntax, variable is a variable that takes on the value of each element in sequence one by one, and the indented block of code under the for loop is executed once for each element in sequence.\n",
    "\n",
    "Here's an example of using a for loop to iterate over a list of numbers and print out each number:"
   ]
  },
  {
   "cell_type": "code",
   "execution_count": null,
   "metadata": {},
   "outputs": [],
   "source": [
    "numbers = [4, 3, 6, 7, 9]\n",
    "for num in numbers:\n",
    "    print(num)"
   ]
  },
  {
   "attachments": {},
   "cell_type": "markdown",
   "metadata": {},
   "source": [
    "Note that the for loop is useful when you want to perform a repetitive task for each item in a sequence or iterable, without having to write the same code for each item separately."
   ]
  },
  {
   "attachments": {},
   "cell_type": "markdown",
   "metadata": {},
   "source": [
    "## Using range()\n",
    "\n",
    "The range() function can be used to generate a sequence of numbers to iterate over. For example:"
   ]
  },
  {
   "cell_type": "code",
   "execution_count": null,
   "metadata": {},
   "outputs": [],
   "source": [
    "for i in range(20):\n",
    "    print(i)"
   ]
  },
  {
   "attachments": {},
   "cell_type": "markdown",
   "metadata": {},
   "source": [
    "Here, range(20) generates a sequence of numbers from 0 to 20 (inclusive), and the for loop iterates over each number in the sequence."
   ]
  },
  {
   "attachments": {},
   "cell_type": "markdown",
   "metadata": {},
   "source": [
    "## Using 'break' statement\n",
    "For example:"
   ]
  },
  {
   "cell_type": "code",
   "execution_count": null,
   "metadata": {},
   "outputs": [],
   "source": [
    "numbers = [1, 2, 3, 4, 5]\n",
    "for num in numbers:\n",
    "    if num == 3:\n",
    "        break\n",
    "    print(num)"
   ]
  },
  {
   "attachments": {},
   "cell_type": "markdown",
   "metadata": {},
   "source": [
    "## Using the 'continue' statement"
   ]
  },
  {
   "cell_type": "code",
   "execution_count": null,
   "metadata": {},
   "outputs": [],
   "source": [
    "numbers = [1, 2, 3, 4, 5]\n",
    "for num in numbers:\n",
    "    if num == 2:\n",
    "        continue\n",
    "    print(num)"
   ]
  },
  {
   "attachments": {},
   "cell_type": "markdown",
   "metadata": {},
   "source": [
    "# Loop while"
   ]
  },
  {
   "attachments": {},
   "cell_type": "markdown",
   "metadata": {},
   "source": [
    "The basic syntax of a while loop"
   ]
  },
  {
   "cell_type": "code",
   "execution_count": null,
   "metadata": {},
   "outputs": [],
   "source": [
    "while condition:\n",
    "    # code block to be executed while condition is true"
   ]
  },
  {
   "attachments": {},
   "cell_type": "markdown",
   "metadata": {},
   "source": [
    "Here, condition is an expression that is evaluated before each iteration of the loop. If the condition is true, the code block under the while statement is executed; if the condition is false, the loop is exited.\n",
    "\n",
    "For example, let's say you want to print the numbers from 1 to 5 using a while loop:"
   ]
  },
  {
   "cell_type": "code",
   "execution_count": null,
   "metadata": {},
   "outputs": [],
   "source": [
    "num = 1\n",
    "while num <= 5:\n",
    "    print(num)\n",
    "    num += 1\n"
   ]
  },
  {
   "attachments": {},
   "cell_type": "markdown",
   "metadata": {},
   "source": [
    "In this example, the while loop iterates while num is less than or equal to 5. The print(num) statement is then executed for each iteration, printing the current value of num to the console. The num += 1 statement increments num by 1 after each iteration, so that the loop will eventually exit when num becomes greater than 5.\n",
    "\n",
    "Here are a few more things to keep in mind when working with while loops in Python:\n",
    "\n",
    "1. Be careful to ensure that the condition in the while loop will eventually become false, or the loop will run indefinitely and your program may freeze or crash.\n",
    "2. You can use the break statement to exit a while loop prematurely if a certain condition is met.\n",
    "3. You can use the continue statement to skip the current iteration of a while loop and move on to the next iteration.\n",
    "4. You can use the else statement after a while loop to execute some code if the loop completes normally (i.e., if the condition becomes false)."
   ]
  },
  {
   "attachments": {},
   "cell_type": "markdown",
   "metadata": {},
   "source": [
    "# If ... Else\n",
    "\n",
    "The basic syntax of an if...else statement is:"
   ]
  },
  {
   "cell_type": "code",
   "execution_count": null,
   "metadata": {},
   "outputs": [],
   "source": [
    "if condition:\n",
    "    # code to be executed if the condition is true\n",
    "else:\n",
    "    # code to be executed if the condition is false"
   ]
  },
  {
   "attachments": {},
   "cell_type": "markdown",
   "metadata": {},
   "source": [
    "Here, the condition is a boolean expression that evaluates to either True or False. If the condition is true, the code inside the if block is executed. Otherwise, the code inside the else block is executed.\n",
    "\n",
    "For example, let's say you want to write a program that determines if a given number is even or odd. You could use the if...else statement to accomplish this:"
   ]
  },
  {
   "cell_type": "code",
   "execution_count": null,
   "metadata": {},
   "outputs": [],
   "source": [
    "number = 3\n",
    "\n",
    "if number % 2 == 0:\n",
    "    print(\"The number is even.\")\n",
    "else:\n",
    "    print(\"The number is odd.\")\n"
   ]
  },
  {
   "attachments": {},
   "cell_type": "markdown",
   "metadata": {},
   "source": [
    "In this example, we use the modulus operator % to determine if the number is even or odd. If the remainder when the number is divided by 2 is zero, then it is even, and the code inside the if block is executed. Otherwise, the code inside the else block is executed."
   ]
  },
  {
   "attachments": {},
   "cell_type": "markdown",
   "metadata": {},
   "source": [
    "# Logical conditions"
   ]
  },
  {
   "cell_type": "code",
   "execution_count": null,
   "metadata": {},
   "outputs": [],
   "source": [
    "Equals: a == b \n",
    "Not Equals: a != b\n",
    "Less than: a < b\n",
    "Less than or equal to: a <= b\n",
    "Greater than: a > b\n",
    "Greater than or equal to: a >= b"
   ]
  }
 ],
 "metadata": {
  "kernelspec": {
   "display_name": "Python 3",
   "language": "python",
   "name": "python3"
  },
  "language_info": {
   "name": "python",
   "version": "3.11.2"
  },
  "orig_nbformat": 4,
  "vscode": {
   "interpreter": {
    "hash": "bd6301d2387c502713dfb7d7370a577a389514b9c42c03d29ceba4b56cff0d1d"
   }
  }
 },
 "nbformat": 4,
 "nbformat_minor": 2
}
